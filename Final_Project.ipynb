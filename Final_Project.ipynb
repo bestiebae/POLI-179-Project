{
  "nbformat": 4,
  "nbformat_minor": 0,
  "metadata": {
    "colab": {
      "provenance": []
    },
    "kernelspec": {
      "name": "python3",
      "display_name": "Python 3"
    },
    "language_info": {
      "name": "python"
    }
  },
  "cells": [
    {
      "cell_type": "code",
      "source": [
        "from google.colab import drive\n",
        "drive.mount('/content/drive', force_remount=True)"
      ],
      "metadata": {
        "colab": {
          "base_uri": "https://localhost:8080/"
        },
        "id": "hmPIA7GSiMnz",
        "outputId": "9bffcbb0-2aae-45ac-c978-da3343a633d4"
      },
      "execution_count": 3,
      "outputs": [
        {
          "output_type": "stream",
          "name": "stdout",
          "text": [
            "Mounted at /content/drive\n"
          ]
        }
      ]
    },
    {
      "cell_type": "code",
      "source": [
        "import os\n",
        "\n",
        "# Define the path to your folder\n",
        "train_dir = '/content/drive/My Drive/Third Year/Spring Quarter/POLI 179/UCLA-protest/img/train'\n",
        "test_dir = '/content/drive/My Drive/Third Year/Spring Quarter/POLI 179/UCLA-protest/img/test'\n",
        "\n",
        "# Check if the paths exist\n",
        "print(\"Train directory exists:\", os.path.exists(train_dir))\n",
        "print(\"Test directory exists:\", os.path.exists(test_dir))\n"
      ],
      "metadata": {
        "colab": {
          "base_uri": "https://localhost:8080/"
        },
        "id": "iFRIMRmhiNmi",
        "outputId": "29a0d306-fee3-4c02-fb8e-3c225a4dc969"
      },
      "execution_count": 4,
      "outputs": [
        {
          "output_type": "stream",
          "name": "stdout",
          "text": [
            "Train directory exists: True\n",
            "Test directory exists: True\n"
          ]
        }
      ]
    },
    {
      "cell_type": "code",
      "source": [
        "!cp -r '/content/drive/My Drive/Third Year/Spring Quarter/POLI 179/UCLA-protest/img/train' /content/train\n",
        "!cp -r '/content/drive/My Drive/Third Year/Spring Quarter/POLI 179/UCLA-protest/img/test' /content/test\n",
        "\n",
        "# Update paths to the local filesystem\n",
        "train_dir = '/content/train'\n",
        "test_dir = '/content/test'"
      ],
      "metadata": {
        "id": "lqowla5JifVU"
      },
      "execution_count": null,
      "outputs": []
    },
    {
      "cell_type": "code",
      "source": [
        "from tensorflow.keras.preprocessing.image import load_img, img_to_array\n",
        "\n",
        "def load_and_preprocess_image(path, target_size=(150, 150)):\n",
        "    img = load_img(path, target_size=target_size)\n",
        "    img = img_to_array(img)\n",
        "    img = img / 255.0  # Normalize to [0, 1]\n",
        "    return img\n",
        "\n",
        "def load_images_from_directory(directory, label_value):\n",
        "    images = []\n",
        "    labels = []\n",
        "    for filename in os.listdir(directory):\n",
        "        if filename.endswith('.jpg'):\n",
        "            img_path = os.path.join(directory, filename)\n",
        "            img = load_and_preprocess_image(img_path)\n",
        "            images.append(img)\n",
        "            labels.append(label_value)\n",
        "    return np.array(images), np.array(labels)\n",
        "\n",
        "# Load train and test images\n",
        "train_images, train_labels = load_images_from_directory(train_dir, label_value=0)  # Update label_value accordingly\n",
        "test_images, test_labels = load_images_from_directory(test_dir, label_value=1)    # Update label_value accordingly"
      ],
      "metadata": {
        "id": "1mrEIwQCaYrB"
      },
      "execution_count": null,
      "outputs": []
    },
    {
      "cell_type": "code",
      "source": [
        "from sklearn.model_selection import train_test_split\n",
        "\n",
        "train_images, val_images, train_labels, val_labels = train_test_split(train_images, train_labels, test_size=0.2, random_state=42)\n",
        "\n",
        "import tensorflow as tf\n",
        "\n",
        "train_dataset = tf.data.Dataset.from_tensor_slices((train_images, train_labels)).shuffle(1000).batch(32)\n",
        "val_dataset = tf.data.Dataset.from_tensor_slices((val_images, val_labels)).batch(32)\n",
        "test_dataset = tf.data.Dataset.from_tensor_slices((test_images, test_labels)).batch(32)"
      ],
      "metadata": {
        "id": "5NF2gOOsck4x"
      },
      "execution_count": null,
      "outputs": []
    },
    {
      "cell_type": "code",
      "source": [
        "from tensorflow.keras.models import Sequential\n",
        "from tensorflow.keras.layers import Conv2D, MaxPooling2D, Flatten, Dense, Dropout\n",
        "from tensorflow.keras.applications import VGG16\n",
        "\n",
        "base_model = VGG16(weights='imagenet', include_top=False, input_shape=(150, 150, 3))\n",
        "\n",
        "model = Sequential()\n",
        "model.add(base_model)\n",
        "model.add(Flatten())\n",
        "model.add(Dense(256, activation='relu'))\n",
        "model.add(Dropout(0.5))\n",
        "model.add(Dense(2, activation='softmax'))  # Modify output layer based on your labels\n",
        "\n",
        "base_model.trainable = False  # Freeze the base model\n",
        "\n",
        "model.compile(optimizer='adam', loss='sparse_categorical_crossentropy', metrics=['accuracy'])\n",
        "\n",
        "model.summary()"
      ],
      "metadata": {
        "id": "YUnQyA8RGlCv"
      },
      "execution_count": null,
      "outputs": []
    },
    {
      "cell_type": "code",
      "source": [
        "history = model.fit(\n",
        "    train_dataset,\n",
        "    validation_data=val_dataset,\n",
        "    epochs=10\n",
        ")\n",
        "\n",
        "# Evaluate on the test set\n",
        "test_loss, test_acc = model.evaluate(test_dataset)\n",
        "print(f'Test accuracy: {test_acc}')"
      ],
      "metadata": {
        "id": "vjhRNJk5Gn75"
      },
      "execution_count": null,
      "outputs": []
    },
    {
      "cell_type": "code",
      "source": [
        "import matplotlib.pyplot as plt\n",
        "\n",
        "# Plot the training and validation accuracy\n",
        "plt.plot(history.history['accuracy'], label='train_accuracy')\n",
        "plt.plot(history.history['val_accuracy'], label='val_accuracy')\n",
        "plt.xlabel('Epochs')\n",
        "plt.ylabel('Accuracy')\n",
        "plt.legend()\n",
        "plt.show()"
      ],
      "metadata": {
        "id": "Idngrj-cRZqS"
      },
      "execution_count": null,
      "outputs": []
    }
  ]
}